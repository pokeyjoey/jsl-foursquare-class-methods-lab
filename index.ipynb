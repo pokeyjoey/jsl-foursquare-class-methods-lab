{
 "cells": [
  {
   "cell_type": "markdown",
   "metadata": {},
   "source": [
    "# Class Functions Lab"
   ]
  },
  {
   "cell_type": "markdown",
   "metadata": {},
   "source": [
    "### Introduction"
   ]
  },
  {
   "cell_type": "markdown",
   "metadata": {},
   "source": [
    "In this lab, we'll practice writing class methods for an application designed to manage data from foursquare.  A number of the functions that we write will not only be useful for this current applications, but our codebases going forward.  Let's get started."
   ]
  },
  {
   "cell_type": "markdown",
   "metadata": {},
   "source": [
    "### Setting Up"
   ]
  },
  {
   "cell_type": "markdown",
   "metadata": {},
   "source": [
    "Before starting up with our code, we'll need to create a database called `test_foursquare` and then run our `create_tables.sql` file in our migrations.  \n",
    "\n",
    "> You may need to delete any existing test_foursquare database that already exists."
   ]
  },
  {
   "cell_type": "markdown",
   "metadata": {},
   "source": [
    "### Venues"
   ]
  },
  {
   "cell_type": "markdown",
   "metadata": {},
   "source": [
    "For the venues class, add a class method called find_by_foursquare id.  The method will take in a foursquare string and query the database to return the instance associated with that foursquare id."
   ]
  },
  {
   "cell_type": "markdown",
   "metadata": {},
   "source": [
    "### Categories"
   ]
  },
  {
   "cell_type": "markdown",
   "metadata": {},
   "source": [
    "Now if we think about categories, we want our database to create a unique set of categories.  So if we add a new restaurant to our database, we should first check if the associated category exists, and if not, then add that category to our database.  To that end, let's build a class method `Category.find_or_create_by_name`.  We'll do this in steps.\n",
    "\n",
    "1. First write a class method `Category.find_by_name`, that allows us to search for a category by a name.\n",
    "\n",
    "2. Then we'll use that to build our `Category.find_or_create_by_name` class method."
   ]
  },
  {
   "cell_type": "markdown",
   "metadata": {},
   "source": [
    "### Adding to the ORM "
   ]
  },
  {
   "cell_type": "markdown",
   "metadata": {},
   "source": [
    "Now let's add another function to our `orm.py` called find.  The function allows us to return a record by it's primary key.  It works like the following."
   ]
  },
  {
   "cell_type": "markdown",
   "metadata": {},
   "source": [
    "```python\n",
    "find(1, Category, test_cursor)\n",
    "\n",
    "# returns category object with data from record with id = 1\n",
    "```"
   ]
  },
  {
   "cell_type": "markdown",
   "metadata": {},
   "source": [
    "Also, write the test associated with this function in the `test_orm.py` file."
   ]
  },
  {
   "cell_type": "markdown",
   "metadata": {},
   "source": [
    "### Resources\n",
    "\n",
    "[Pytest](https://xvrdm.github.io/2017/07/03/testing-flask-sqlalchemy-database-with-pytest/)"
   ]
  },
  {
   "cell_type": "markdown",
   "metadata": {},
   "source": [
    "[Pytest fixtures](https://docs.pytest.org/en/stable/fixture.html)"
   ]
  }
 ],
 "metadata": {
  "kernelspec": {
   "display_name": "Python 3",
   "language": "python",
   "name": "python3"
  },
  "language_info": {
   "codemirror_mode": {
    "name": "ipython",
    "version": 3
   },
   "file_extension": ".py",
   "mimetype": "text/x-python",
   "name": "python",
   "nbconvert_exporter": "python",
   "pygments_lexer": "ipython3",
   "version": "3.8.3"
  }
 },
 "nbformat": 4,
 "nbformat_minor": 4
}
